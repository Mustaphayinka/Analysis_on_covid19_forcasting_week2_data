{
 "cells": [
  {
   "cell_type": "code",
   "execution_count": 1,
   "metadata": {},
   "outputs": [],
   "source": [
    "import pandas as pd\n",
    "import matplotlib.pyplot as plt\n",
    "import numpy as np\n",
    "%matplotlib inline"
   ]
  },
  {
   "cell_type": "code",
   "execution_count": 2,
   "metadata": {},
   "outputs": [],
   "source": [
    "train= pd.read_csv('train.csv')\n",
    "\n"
   ]
  },
  {
   "cell_type": "code",
   "execution_count": 3,
   "metadata": {},
   "outputs": [
    {
     "data": {
      "text/html": [
       "<div>\n",
       "<style scoped>\n",
       "    .dataframe tbody tr th:only-of-type {\n",
       "        vertical-align: middle;\n",
       "    }\n",
       "\n",
       "    .dataframe tbody tr th {\n",
       "        vertical-align: top;\n",
       "    }\n",
       "\n",
       "    .dataframe thead th {\n",
       "        text-align: right;\n",
       "    }\n",
       "</style>\n",
       "<table border=\"1\" class=\"dataframe\">\n",
       "  <thead>\n",
       "    <tr style=\"text-align: right;\">\n",
       "      <th></th>\n",
       "      <th>Id</th>\n",
       "      <th>Country_Region</th>\n",
       "      <th>Province_State</th>\n",
       "      <th>Date</th>\n",
       "      <th>ConfirmedCases</th>\n",
       "      <th>Fatalities</th>\n",
       "    </tr>\n",
       "  </thead>\n",
       "  <tbody>\n",
       "    <tr>\n",
       "      <th>0</th>\n",
       "      <td>1</td>\n",
       "      <td>Afghanistan</td>\n",
       "      <td>NaN</td>\n",
       "      <td>2020-01-22</td>\n",
       "      <td>0.0</td>\n",
       "      <td>0.0</td>\n",
       "    </tr>\n",
       "    <tr>\n",
       "      <th>1</th>\n",
       "      <td>2</td>\n",
       "      <td>Afghanistan</td>\n",
       "      <td>NaN</td>\n",
       "      <td>2020-01-23</td>\n",
       "      <td>0.0</td>\n",
       "      <td>0.0</td>\n",
       "    </tr>\n",
       "    <tr>\n",
       "      <th>2</th>\n",
       "      <td>3</td>\n",
       "      <td>Afghanistan</td>\n",
       "      <td>NaN</td>\n",
       "      <td>2020-01-24</td>\n",
       "      <td>0.0</td>\n",
       "      <td>0.0</td>\n",
       "    </tr>\n",
       "    <tr>\n",
       "      <th>3</th>\n",
       "      <td>4</td>\n",
       "      <td>Afghanistan</td>\n",
       "      <td>NaN</td>\n",
       "      <td>2020-01-25</td>\n",
       "      <td>0.0</td>\n",
       "      <td>0.0</td>\n",
       "    </tr>\n",
       "    <tr>\n",
       "      <th>4</th>\n",
       "      <td>5</td>\n",
       "      <td>Afghanistan</td>\n",
       "      <td>NaN</td>\n",
       "      <td>2020-01-26</td>\n",
       "      <td>0.0</td>\n",
       "      <td>0.0</td>\n",
       "    </tr>\n",
       "  </tbody>\n",
       "</table>\n",
       "</div>"
      ],
      "text/plain": [
       "   Id Country_Region Province_State        Date  ConfirmedCases  Fatalities\n",
       "0   1    Afghanistan            NaN  2020-01-22             0.0         0.0\n",
       "1   2    Afghanistan            NaN  2020-01-23             0.0         0.0\n",
       "2   3    Afghanistan            NaN  2020-01-24             0.0         0.0\n",
       "3   4    Afghanistan            NaN  2020-01-25             0.0         0.0\n",
       "4   5    Afghanistan            NaN  2020-01-26             0.0         0.0"
      ]
     },
     "execution_count": 3,
     "metadata": {},
     "output_type": "execute_result"
    }
   ],
   "source": [
    "train.head()"
   ]
  },
  {
   "cell_type": "code",
   "execution_count": 4,
   "metadata": {},
   "outputs": [
    {
     "data": {
      "text/plain": [
       "Id                21726\n",
       "Country_Region    21726\n",
       "Province_State     9230\n",
       "Date              21726\n",
       "ConfirmedCases    21726\n",
       "Fatalities        21726\n",
       "dtype: int64"
      ]
     },
     "execution_count": 4,
     "metadata": {},
     "output_type": "execute_result"
    }
   ],
   "source": [
    "train.count()"
   ]
  },
  {
   "cell_type": "code",
   "execution_count": 5,
   "metadata": {},
   "outputs": [
    {
     "data": {
      "text/plain": [
       "Id                    0\n",
       "Country_Region        0\n",
       "Province_State    12496\n",
       "Date                  0\n",
       "ConfirmedCases        0\n",
       "Fatalities            0\n",
       "dtype: int64"
      ]
     },
     "execution_count": 5,
     "metadata": {},
     "output_type": "execute_result"
    }
   ],
   "source": [
    "train.isna().sum()"
   ]
  },
  {
   "cell_type": "code",
   "execution_count": 6,
   "metadata": {},
   "outputs": [],
   "source": [
    "import datetime as datetime\n",
    "train['Dates'] = pd.to_datetime(train.Date)\n",
    "train['Year'] = train.Dates.dt.year\n",
    "train['Month'] = train.Dates.dt.month\n",
    "train['Week'] = train.Dates.dt.week\n",
    "train['Name of month'] = train.Dates.dt.month_name()\n",
    "train['Week_day_name'] = train.Dates.dt.weekday_name\n",
    "train['Day_of_year'] = train.Dates.dt.dayofyear"
   ]
  },
  {
   "cell_type": "code",
   "execution_count": null,
   "metadata": {},
   "outputs": [],
   "source": []
  },
  {
   "cell_type": "code",
   "execution_count": 7,
   "metadata": {},
   "outputs": [
    {
     "name": "stdout",
     "output_type": "stream",
     "text": [
      "70 days, 0:00:00\n"
     ]
    }
   ],
   "source": [
    "from datetime import date\n",
    "d0 = date(2020,1,22)\n",
    "d1 = date(2020,4,1)\n",
    "delta = d1-d0\n",
    "print(delta)"
   ]
  },
  {
   "cell_type": "code",
   "execution_count": 8,
   "metadata": {},
   "outputs": [
    {
     "name": "stdout",
     "output_type": "stream",
     "text": [
      "The date of the entire data is from 2020-01-22 00:00:00 to 2020-04-01 00:00:00 ,a total number of 70 days, 0:00:00\n",
      "The total amount of countries in the data is 180\n",
      "The total sum of confirmed cases is 11531921.0\n",
      "The total sum of Fatalities is 480664.0\n"
     ]
    }
   ],
   "source": [
    "print('The date of the entire data is from', train.Dates.min(), 'to', train.Dates.max(),\n",
    "      ',a total number of', delta)\n",
    "print('The total amount of countries in the data is', len(train.Country_Region.unique()))\n",
    "print('The total sum of confirmed cases is',train.ConfirmedCases.sum())\n",
    "print('The total sum of Fatalities is',train.Fatalities.sum())"
   ]
  },
  {
   "cell_type": "code",
   "execution_count": 9,
   "metadata": {},
   "outputs": [
    {
     "data": {
      "image/png": "[encoded data removed]",
      "text/plain": [
       "<Figure size 432x288 with 1 Axes>"
      ]
     },
     "metadata": {},
     "output_type": "display_data"
    }
   ],
   "source": [
    "#Pie chart showing the percentage of total confirmed cases and fatality cases\n",
    "train[['ConfirmedCases','Fatalities']].sum().plot(kind = 'pie', autopct = '%.1f%%', legend = 'best', \n",
    "                                                 explode = [0, 0.5], label = '')\n",
    "plt.title('Percentage of total confirmed and fatalities')\n",
    "plt.legend()\n",
    "plt.show()"
   ]
  },
  {
   "cell_type": "code",
   "execution_count": 10,
   "metadata": {},
   "outputs": [
    {
     "data": {
      "text/html": [
       "<div>\n",
       "<style scoped>\n",
       "    .dataframe tbody tr th:only-of-type {\n",
       "        vertical-align: middle;\n",
       "    }\n",
       "\n",
       "    .dataframe tbody tr th {\n",
       "        vertical-align: top;\n",
       "    }\n",
       "\n",
       "    .dataframe thead th {\n",
       "        text-align: right;\n",
       "    }\n",
       "</style>\n",
       "<table border=\"1\" class=\"dataframe\">\n",
       "  <thead>\n",
       "    <tr style=\"text-align: right;\">\n",
       "      <th></th>\n",
       "      <th>Id</th>\n",
       "      <th>Country_Region</th>\n",
       "      <th>Province_State</th>\n",
       "      <th>Date</th>\n",
       "      <th>ConfirmedCases</th>\n",
       "      <th>Fatalities</th>\n",
       "      <th>Dates</th>\n",
       "      <th>Year</th>\n",
       "      <th>Month</th>\n",
       "      <th>Week</th>\n",
       "      <th>Name of month</th>\n",
       "      <th>Week_day_name</th>\n",
       "      <th>Day_of_year</th>\n",
       "    </tr>\n",
       "  </thead>\n",
       "  <tbody>\n",
       "    <tr>\n",
       "      <th>0</th>\n",
       "      <td>1</td>\n",
       "      <td>Afghanistan</td>\n",
       "      <td>NaN</td>\n",
       "      <td>2020-01-22</td>\n",
       "      <td>0.0</td>\n",
       "      <td>0.0</td>\n",
       "      <td>2020-01-22</td>\n",
       "      <td>2020</td>\n",
       "      <td>1</td>\n",
       "      <td>4</td>\n",
       "      <td>January</td>\n",
       "      <td>Wednesday</td>\n",
       "      <td>22</td>\n",
       "    </tr>\n",
       "    <tr>\n",
       "      <th>1</th>\n",
       "      <td>2</td>\n",
       "      <td>Afghanistan</td>\n",
       "      <td>NaN</td>\n",
       "      <td>2020-01-23</td>\n",
       "      <td>0.0</td>\n",
       "      <td>0.0</td>\n",
       "      <td>2020-01-23</td>\n",
       "      <td>2020</td>\n",
       "      <td>1</td>\n",
       "      <td>4</td>\n",
       "      <td>January</td>\n",
       "      <td>Thursday</td>\n",
       "      <td>23</td>\n",
       "    </tr>\n",
       "    <tr>\n",
       "      <th>2</th>\n",
       "      <td>3</td>\n",
       "      <td>Afghanistan</td>\n",
       "      <td>NaN</td>\n",
       "      <td>2020-01-24</td>\n",
       "      <td>0.0</td>\n",
       "      <td>0.0</td>\n",
       "      <td>2020-01-24</td>\n",
       "      <td>2020</td>\n",
       "      <td>1</td>\n",
       "      <td>4</td>\n",
       "      <td>January</td>\n",
       "      <td>Friday</td>\n",
       "      <td>24</td>\n",
       "    </tr>\n",
       "    <tr>\n",
       "      <th>3</th>\n",
       "      <td>4</td>\n",
       "      <td>Afghanistan</td>\n",
       "      <td>NaN</td>\n",
       "      <td>2020-01-25</td>\n",
       "      <td>0.0</td>\n",
       "      <td>0.0</td>\n",
       "      <td>2020-01-25</td>\n",
       "      <td>2020</td>\n",
       "      <td>1</td>\n",
       "      <td>4</td>\n",
       "      <td>January</td>\n",
       "      <td>Saturday</td>\n",
       "      <td>25</td>\n",
       "    </tr>\n",
       "    <tr>\n",
       "      <th>4</th>\n",
       "      <td>5</td>\n",
       "      <td>Afghanistan</td>\n",
       "      <td>NaN</td>\n",
       "      <td>2020-01-26</td>\n",
       "      <td>0.0</td>\n",
       "      <td>0.0</td>\n",
       "      <td>2020-01-26</td>\n",
       "      <td>2020</td>\n",
       "      <td>1</td>\n",
       "      <td>4</td>\n",
       "      <td>January</td>\n",
       "      <td>Sunday</td>\n",
       "      <td>26</td>\n",
       "    </tr>\n",
       "  </tbody>\n",
       "</table>\n",
       "</div>"
      ],
      "text/plain": [
       "   Id Country_Region Province_State        Date  ConfirmedCases  Fatalities  \\\n",
       "0   1    Afghanistan            NaN  2020-01-22             0.0         0.0   \n",
       "1   2    Afghanistan            NaN  2020-01-23             0.0         0.0   \n",
       "2   3    Afghanistan            NaN  2020-01-24             0.0         0.0   \n",
       "3   4    Afghanistan            NaN  2020-01-25             0.0         0.0   \n",
       "4   5    Afghanistan            NaN  2020-01-26             0.0         0.0   \n",
       "\n",
       "       Dates  Year  Month  Week Name of month Week_day_name  Day_of_year  \n",
       "0 2020-01-22  2020      1     4       January     Wednesday           22  \n",
       "1 2020-01-23  2020      1     4       January      Thursday           23  \n",
       "2 2020-01-24  2020      1     4       January        Friday           24  \n",
       "3 2020-01-25  2020      1     4       January      Saturday           25  \n",
       "4 2020-01-26  2020      1     4       January        Sunday           26  "
      ]
     },
     "execution_count": 10,
     "metadata": {},
     "output_type": "execute_result"
    }
   ],
   "source": [
    "train.head()"
   ]
  },
  {
   "cell_type": "code",
   "execution_count": 11,
   "metadata": {},
   "outputs": [
    {
     "data": {
      "text/plain": [
       "(21726, 13)"
      ]
     },
     "execution_count": 11,
     "metadata": {},
     "output_type": "execute_result"
    }
   ],
   "source": [
    "train.shape"
   ]
  },
  {
   "cell_type": "code",
   "execution_count": 12,
   "metadata": {},
   "outputs": [
    {
     "data": {
      "text/plain": [
       "array(['Australia', 'Canada', 'China', 'Denmark', 'France', 'Netherlands',\n",
       "       'US', 'United Kingdom'], dtype=object)"
      ]
     },
     "execution_count": 12,
     "metadata": {},
     "output_type": "execute_result"
    }
   ],
   "source": [
    "#Countries with province/state present in the data\n",
    "train.loc[train['Province_State'].isna()== False]['Country_Region'].unique()"
   ]
  },
  {
   "cell_type": "code",
   "execution_count": 13,
   "metadata": {},
   "outputs": [
    {
     "data": {
      "text/plain": [
       "Country_Region\n",
       "China      4269156.0\n",
       "Italy      1321663.0\n",
       "US         1295478.0\n",
       "Spain       846815.0\n",
       "Germany     666630.0\n",
       "Name: ConfirmedCases, dtype: float64"
      ]
     },
     "execution_count": 13,
     "metadata": {},
     "output_type": "execute_result"
    }
   ],
   "source": [
    "#Countries with the highest number of confirmed cases(5)\n",
    "train.groupby('Country_Region')['ConfirmedCases'].sum().nlargest(5)"
   ]
  },
  {
   "cell_type": "code",
   "execution_count": 14,
   "metadata": {},
   "outputs": [
    {
     "data": {
      "text/plain": [
       "Country_Region\n",
       "China     149110.0\n",
       "Italy     129684.0\n",
       "Spain      63966.0\n",
       "Iran       37407.0\n",
       "France     25392.0\n",
       "Name: Fatalities, dtype: float64"
      ]
     },
     "execution_count": 14,
     "metadata": {},
     "output_type": "execute_result"
    }
   ],
   "source": [
    "#Countries with the highest number of fatalities(5)\n",
    "train.groupby('Country_Region')['Fatalities'].sum().nlargest(5)"
   ]
  },
  {
   "cell_type": "code",
   "execution_count": 15,
   "metadata": {},
   "outputs": [
    {
     "data": {
      "image/png": "[encoded data removed]",
      "text/plain": [
       "<Figure size 432x288 with 1 Axes>"
      ]
     },
     "metadata": {},
     "output_type": "display_data"
    },
    {
     "data": {
      "image/png": "[encoded data removed]",
      "text/plain": [
       "<Figure size 432x288 with 1 Axes>"
      ]
     },
     "metadata": {},
     "output_type": "display_data"
    }
   ],
   "source": [
    "#Piechart showing countries with the highest number of confirmed cases and fatalities(5)\n",
    "plt.subplot(1,2,1)\n",
    "train.groupby('Country_Region')['ConfirmedCases'].sum().nlargest(5).plot(kind = 'pie',\n",
    "                                                                         label ='',autopct ='%0.1f%%')\n",
    "plt.title('Top 5 highest confirmed cases')\n",
    "plt.show()\n",
    "plt.subplot(1,2,2)\n",
    "train.groupby('Country_Region')['Fatalities'].sum().nlargest(5).plot(kind ='pie',label = '',autopct ='%0.1f%%')\n",
    "plt.title('Top 5 highest fatalities')\n",
    "plt.tight_layout()\n",
    "plt.show()"
   ]
  },
  {
   "cell_type": "code",
   "execution_count": 16,
   "metadata": {},
   "outputs": [
    {
     "data": {
      "text/plain": [
       "Country_Region  Name of month\n",
       "China           March            2515426.0\n",
       "                February         1633361.0\n",
       "Italy           March            1207121.0\n",
       "US              March            1082264.0\n",
       "Spain           March             742546.0\n",
       "Name: ConfirmedCases, dtype: float64"
      ]
     },
     "execution_count": 16,
     "metadata": {},
     "output_type": "execute_result"
    }
   ],
   "source": [
    "#The month with the highest confirmed cases for five top contries\n",
    "train.groupby(['Country_Region', 'Name of month'])['ConfirmedCases'].sum().nlargest(5)"
   ]
  },
  {
   "cell_type": "code",
   "execution_count": 17,
   "metadata": {},
   "outputs": [
    {
     "data": {
      "text/plain": [
       "Country_Region  Name of month\n",
       "Italy           March            116427.0\n",
       "China           March             98488.0\n",
       "Spain           March             54579.0\n",
       "China           February          46417.0\n",
       "Iran            March             34200.0\n",
       "Name: Fatalities, dtype: float64"
      ]
     },
     "execution_count": 17,
     "metadata": {},
     "output_type": "execute_result"
    }
   ],
   "source": [
    "#The month with the highest fatalities for 5 top countries \n",
    "train.groupby(['Country_Region', 'Name of month'])['Fatalities'].sum().nlargest(5)"
   ]
  },
  {
   "cell_type": "code",
   "execution_count": null,
   "metadata": {},
   "outputs": [],
   "source": []
  },
  {
   "cell_type": "code",
   "execution_count": 18,
   "metadata": {},
   "outputs": [
    {
     "data": {
      "text/plain": [
       "Country_Region  Week\n",
       "US              13      610345.0\n",
       "China           13      572550.0\n",
       "                12      568339.0\n",
       "                11      566525.0\n",
       "Italy           13      564737.0\n",
       "China           10      563603.0\n",
       "US              14      562887.0\n",
       "China           9       549977.0\n",
       "                8       525914.0\n",
       "Spain           13      401386.0\n",
       "Name: ConfirmedCases, dtype: float64"
      ]
     },
     "execution_count": 18,
     "metadata": {},
     "output_type": "execute_result"
    }
   ],
   "source": [
    "#Countries and week with the highest confirmed cases\n",
    "train.groupby(['Country_Region', 'Week'])['ConfirmedCases'].sum().nlargest(10)"
   ]
  },
  {
   "cell_type": "code",
   "execution_count": 19,
   "metadata": {},
   "outputs": [
    {
     "data": {
      "text/plain": [
       "Country_Region  Week\n",
       "Italy           13      58551.0\n",
       "                14      37174.0\n",
       "Spain           13      31054.0\n",
       "                14      25567.0\n",
       "Italy           12      25377.0\n",
       "China           13      23030.0\n",
       "                12      22723.0\n",
       "                11      22171.0\n",
       "                10      21075.0\n",
       "                9       19222.0\n",
       "Name: Fatalities, dtype: float64"
      ]
     },
     "execution_count": 19,
     "metadata": {},
     "output_type": "execute_result"
    }
   ],
   "source": [
    "#Countries and week with the highest fatalities\n",
    "train.groupby(['Country_Region', 'Week'])['Fatalities'].sum().nlargest(10)"
   ]
  },
  {
   "cell_type": "code",
   "execution_count": null,
   "metadata": {},
   "outputs": [],
   "source": []
  },
  {
   "cell_type": "code",
   "execution_count": null,
   "metadata": {},
   "outputs": [],
   "source": []
  },
  {
   "cell_type": "code",
   "execution_count": null,
   "metadata": {},
   "outputs": [],
   "source": []
  },
  {
   "cell_type": "code",
   "execution_count": 35,
   "metadata": {},
   "outputs": [
    {
     "data": {
      "text/html": [
       "<div>\n",
       "<style scoped>\n",
       "    .dataframe tbody tr th:only-of-type {\n",
       "        vertical-align: middle;\n",
       "    }\n",
       "\n",
       "    .dataframe tbody tr th {\n",
       "        vertical-align: top;\n",
       "    }\n",
       "\n",
       "    .dataframe thead th {\n",
       "        text-align: right;\n",
       "    }\n",
       "</style>\n",
       "<table border=\"1\" class=\"dataframe\">\n",
       "  <thead>\n",
       "    <tr style=\"text-align: right;\">\n",
       "      <th></th>\n",
       "      <th>Id</th>\n",
       "      <th>Country_Region</th>\n",
       "      <th>Province_State</th>\n",
       "      <th>Date</th>\n",
       "      <th>ConfirmedCases</th>\n",
       "      <th>Fatalities</th>\n",
       "      <th>Dates</th>\n",
       "      <th>Year</th>\n",
       "      <th>Month</th>\n",
       "      <th>Week</th>\n",
       "      <th>Name of month</th>\n",
       "      <th>Week_day_name</th>\n",
       "      <th>Day_of_year</th>\n",
       "    </tr>\n",
       "  </thead>\n",
       "  <tbody>\n",
       "    <tr>\n",
       "      <th>13277</th>\n",
       "      <td>20010</td>\n",
       "      <td>Nigeria</td>\n",
       "      <td>NaN</td>\n",
       "      <td>2020-01-22</td>\n",
       "      <td>0.0</td>\n",
       "      <td>0.0</td>\n",
       "      <td>2020-01-22</td>\n",
       "      <td>2020</td>\n",
       "      <td>1</td>\n",
       "      <td>4</td>\n",
       "      <td>January</td>\n",
       "      <td>Wednesday</td>\n",
       "      <td>22</td>\n",
       "    </tr>\n",
       "    <tr>\n",
       "      <th>13278</th>\n",
       "      <td>20011</td>\n",
       "      <td>Nigeria</td>\n",
       "      <td>NaN</td>\n",
       "      <td>2020-01-23</td>\n",
       "      <td>0.0</td>\n",
       "      <td>0.0</td>\n",
       "      <td>2020-01-23</td>\n",
       "      <td>2020</td>\n",
       "      <td>1</td>\n",
       "      <td>4</td>\n",
       "      <td>January</td>\n",
       "      <td>Thursday</td>\n",
       "      <td>23</td>\n",
       "    </tr>\n",
       "    <tr>\n",
       "      <th>13279</th>\n",
       "      <td>20012</td>\n",
       "      <td>Nigeria</td>\n",
       "      <td>NaN</td>\n",
       "      <td>2020-01-24</td>\n",
       "      <td>0.0</td>\n",
       "      <td>0.0</td>\n",
       "      <td>2020-01-24</td>\n",
       "      <td>2020</td>\n",
       "      <td>1</td>\n",
       "      <td>4</td>\n",
       "      <td>January</td>\n",
       "      <td>Friday</td>\n",
       "      <td>24</td>\n",
       "    </tr>\n",
       "    <tr>\n",
       "      <th>13280</th>\n",
       "      <td>20013</td>\n",
       "      <td>Nigeria</td>\n",
       "      <td>NaN</td>\n",
       "      <td>2020-01-25</td>\n",
       "      <td>0.0</td>\n",
       "      <td>0.0</td>\n",
       "      <td>2020-01-25</td>\n",
       "      <td>2020</td>\n",
       "      <td>1</td>\n",
       "      <td>4</td>\n",
       "      <td>January</td>\n",
       "      <td>Saturday</td>\n",
       "      <td>25</td>\n",
       "    </tr>\n",
       "    <tr>\n",
       "      <th>13281</th>\n",
       "      <td>20014</td>\n",
       "      <td>Nigeria</td>\n",
       "      <td>NaN</td>\n",
       "      <td>2020-01-26</td>\n",
       "      <td>0.0</td>\n",
       "      <td>0.0</td>\n",
       "      <td>2020-01-26</td>\n",
       "      <td>2020</td>\n",
       "      <td>1</td>\n",
       "      <td>4</td>\n",
       "      <td>January</td>\n",
       "      <td>Sunday</td>\n",
       "      <td>26</td>\n",
       "    </tr>\n",
       "  </tbody>\n",
       "</table>\n",
       "</div>"
      ],
      "text/plain": [
       "          Id Country_Region Province_State        Date  ConfirmedCases  \\\n",
       "13277  20010        Nigeria            NaN  2020-01-22             0.0   \n",
       "13278  20011        Nigeria            NaN  2020-01-23             0.0   \n",
       "13279  20012        Nigeria            NaN  2020-01-24             0.0   \n",
       "13280  20013        Nigeria            NaN  2020-01-25             0.0   \n",
       "13281  20014        Nigeria            NaN  2020-01-26             0.0   \n",
       "\n",
       "       Fatalities      Dates  Year  Month  Week Name of month Week_day_name  \\\n",
       "13277         0.0 2020-01-22  2020      1     4       January     Wednesday   \n",
       "13278         0.0 2020-01-23  2020      1     4       January      Thursday   \n",
       "13279         0.0 2020-01-24  2020      1     4       January        Friday   \n",
       "13280         0.0 2020-01-25  2020      1     4       January      Saturday   \n",
       "13281         0.0 2020-01-26  2020      1     4       January        Sunday   \n",
       "\n",
       "       Day_of_year  \n",
       "13277           22  \n",
       "13278           23  \n",
       "13279           24  \n",
       "13280           25  \n",
       "13281           26  "
      ]
     },
     "execution_count": 35,
     "metadata": {},
     "output_type": "execute_result"
    }
   ],
   "source": [
    "#Fetching and analysing Nigeria data\n",
    "Nigeria = train.loc[train.Country_Region == 'Nigeria']\n",
    "Nigeria.head()"
   ]
  },
  {
   "cell_type": "code",
   "execution_count": 36,
   "metadata": {},
   "outputs": [
    {
     "data": {
      "text/html": [
       "<div>\n",
       "<style scoped>\n",
       "    .dataframe tbody tr th:only-of-type {\n",
       "        vertical-align: middle;\n",
       "    }\n",
       "\n",
       "    .dataframe tbody tr th {\n",
       "        vertical-align: top;\n",
       "    }\n",
       "\n",
       "    .dataframe thead th {\n",
       "        text-align: right;\n",
       "    }\n",
       "</style>\n",
       "<table border=\"1\" class=\"dataframe\">\n",
       "  <thead>\n",
       "    <tr style=\"text-align: right;\">\n",
       "      <th></th>\n",
       "      <th>Id</th>\n",
       "      <th>Country_Region</th>\n",
       "      <th>Province_State</th>\n",
       "      <th>Date</th>\n",
       "      <th>ConfirmedCases</th>\n",
       "      <th>Fatalities</th>\n",
       "      <th>Dates</th>\n",
       "      <th>Year</th>\n",
       "      <th>Month</th>\n",
       "      <th>Week</th>\n",
       "      <th>Name of month</th>\n",
       "      <th>Week_day_name</th>\n",
       "      <th>Day_of_year</th>\n",
       "    </tr>\n",
       "  </thead>\n",
       "  <tbody>\n",
       "    <tr>\n",
       "      <th>13343</th>\n",
       "      <td>20076</td>\n",
       "      <td>Nigeria</td>\n",
       "      <td>NaN</td>\n",
       "      <td>2020-03-28</td>\n",
       "      <td>89.0</td>\n",
       "      <td>1.0</td>\n",
       "      <td>2020-03-28</td>\n",
       "      <td>2020</td>\n",
       "      <td>3</td>\n",
       "      <td>13</td>\n",
       "      <td>March</td>\n",
       "      <td>Saturday</td>\n",
       "      <td>88</td>\n",
       "    </tr>\n",
       "    <tr>\n",
       "      <th>13344</th>\n",
       "      <td>20077</td>\n",
       "      <td>Nigeria</td>\n",
       "      <td>NaN</td>\n",
       "      <td>2020-03-29</td>\n",
       "      <td>111.0</td>\n",
       "      <td>1.0</td>\n",
       "      <td>2020-03-29</td>\n",
       "      <td>2020</td>\n",
       "      <td>3</td>\n",
       "      <td>13</td>\n",
       "      <td>March</td>\n",
       "      <td>Sunday</td>\n",
       "      <td>89</td>\n",
       "    </tr>\n",
       "    <tr>\n",
       "      <th>13345</th>\n",
       "      <td>20078</td>\n",
       "      <td>Nigeria</td>\n",
       "      <td>NaN</td>\n",
       "      <td>2020-03-30</td>\n",
       "      <td>131.0</td>\n",
       "      <td>2.0</td>\n",
       "      <td>2020-03-30</td>\n",
       "      <td>2020</td>\n",
       "      <td>3</td>\n",
       "      <td>14</td>\n",
       "      <td>March</td>\n",
       "      <td>Monday</td>\n",
       "      <td>90</td>\n",
       "    </tr>\n",
       "    <tr>\n",
       "      <th>13346</th>\n",
       "      <td>20079</td>\n",
       "      <td>Nigeria</td>\n",
       "      <td>NaN</td>\n",
       "      <td>2020-03-31</td>\n",
       "      <td>135.0</td>\n",
       "      <td>2.0</td>\n",
       "      <td>2020-03-31</td>\n",
       "      <td>2020</td>\n",
       "      <td>3</td>\n",
       "      <td>14</td>\n",
       "      <td>March</td>\n",
       "      <td>Tuesday</td>\n",
       "      <td>91</td>\n",
       "    </tr>\n",
       "    <tr>\n",
       "      <th>13347</th>\n",
       "      <td>20080</td>\n",
       "      <td>Nigeria</td>\n",
       "      <td>NaN</td>\n",
       "      <td>2020-04-01</td>\n",
       "      <td>174.0</td>\n",
       "      <td>2.0</td>\n",
       "      <td>2020-04-01</td>\n",
       "      <td>2020</td>\n",
       "      <td>4</td>\n",
       "      <td>14</td>\n",
       "      <td>April</td>\n",
       "      <td>Wednesday</td>\n",
       "      <td>92</td>\n",
       "    </tr>\n",
       "  </tbody>\n",
       "</table>\n",
       "</div>"
      ],
      "text/plain": [
       "          Id Country_Region Province_State        Date  ConfirmedCases  \\\n",
       "13343  20076        Nigeria            NaN  2020-03-28            89.0   \n",
       "13344  20077        Nigeria            NaN  2020-03-29           111.0   \n",
       "13345  20078        Nigeria            NaN  2020-03-30           131.0   \n",
       "13346  20079        Nigeria            NaN  2020-03-31           135.0   \n",
       "13347  20080        Nigeria            NaN  2020-04-01           174.0   \n",
       "\n",
       "       Fatalities      Dates  Year  Month  Week Name of month Week_day_name  \\\n",
       "13343         1.0 2020-03-28  2020      3    13         March      Saturday   \n",
       "13344         1.0 2020-03-29  2020      3    13         March        Sunday   \n",
       "13345         2.0 2020-03-30  2020      3    14         March        Monday   \n",
       "13346         2.0 2020-03-31  2020      3    14         March       Tuesday   \n",
       "13347         2.0 2020-04-01  2020      4    14         April     Wednesday   \n",
       "\n",
       "       Day_of_year  \n",
       "13343           88  \n",
       "13344           89  \n",
       "13345           90  \n",
       "13346           91  \n",
       "13347           92  "
      ]
     },
     "execution_count": 36,
     "metadata": {},
     "output_type": "execute_result"
    }
   ],
   "source": [
    "Nigeria.tail()"
   ]
  },
  {
   "cell_type": "code",
   "execution_count": 37,
   "metadata": {},
   "outputs": [
    {
     "name": "stdout",
     "output_type": "stream",
     "text": [
      "70 days, 0:00:00\n"
     ]
    }
   ],
   "source": [
    "d2 = date(2020,1,22)\n",
    "d3 = date(2020,4,1)\n",
    "delta1 = d3-d2\n",
    "print(delta1)"
   ]
  },
  {
   "cell_type": "code",
   "execution_count": null,
   "metadata": {},
   "outputs": [],
   "source": []
  },
  {
   "cell_type": "code",
   "execution_count": 38,
   "metadata": {},
   "outputs": [
    {
     "name": "stdout",
     "output_type": "stream",
     "text": [
      "The date of  Nigeria data is from 2020-01-22 00:00:00 to 2020-04-01 00:00:00 ,a total number of 70 days, 0:00:00\n",
      "The total sum of confirmed cases in Nigeria is 1019.0\n",
      "The total sum of Fatalities in Nigeria is 13.0\n"
     ]
    }
   ],
   "source": [
    "print('The date of  Nigeria data is from', Nigeria.Dates.min(), 'to', Nigeria.Dates.max(),\n",
    "      ',a total number of', delta1)\n",
    "print('The total sum of confirmed cases in Nigeria is',Nigeria.ConfirmedCases.sum())\n",
    "print('The total sum of Fatalities in Nigeria is',Nigeria.Fatalities.sum())"
   ]
  },
  {
   "cell_type": "code",
   "execution_count": null,
   "metadata": {},
   "outputs": [],
   "source": []
  },
  {
   "cell_type": "code",
   "execution_count": 39,
   "metadata": {},
   "outputs": [
    {
     "data": {
      "text/plain": [
       "Name of month\n",
       "April       174.0\n",
       "February      2.0\n",
       "January       0.0\n",
       "March       843.0\n",
       "Name: ConfirmedCases, dtype: float64"
      ]
     },
     "execution_count": 39,
     "metadata": {},
     "output_type": "execute_result"
    }
   ],
   "source": [
    "#Highest confirmed cases by month in Nigeria\n",
    "Nigeria.groupby('Name of month')['ConfirmedCases'].sum()\n"
   ]
  },
  {
   "cell_type": "code",
   "execution_count": 40,
   "metadata": {},
   "outputs": [
    {
     "data": {
      "text/plain": [
       "Name of month\n",
       "April        2.0\n",
       "February     0.0\n",
       "January      0.0\n",
       "March       11.0\n",
       "Name: Fatalities, dtype: float64"
      ]
     },
     "execution_count": 40,
     "metadata": {},
     "output_type": "execute_result"
    }
   ],
   "source": [
    "#Highest fatalities by month in Nigeria\n",
    "Nigeria.groupby('Name of month')['Fatalities'].sum()"
   ]
  },
  {
   "cell_type": "code",
   "execution_count": 41,
   "metadata": {},
   "outputs": [
    {
     "data": {
      "image/png": "[encoded data removed]",
      "text/plain": [
       "<Figure size 432x288 with 2 Axes>"
      ]
     },
     "metadata": {
      "needs_background": "light"
     },
     "output_type": "display_data"
    }
   ],
   "source": [
    "#Barchart showing the number of confirmed cases and fatalities per month \n",
    "plt.subplot(1,2,1)\n",
    "Nigeria.groupby('Month')['ConfirmedCases'].sum().plot(kind = 'bar', grid= True)\n",
    "plt.title('Confirmed cases by month')\n",
    "plt.xlabel('Month')\n",
    "plt.ylabel('confirmed cases')\n",
    "plt.xticks(np.arange(4), ('January','February','March','April'))\n",
    "plt.legend()\n",
    "plt.subplot(1,2,2)\n",
    "Nigeria.groupby('Month')['Fatalities'].sum().plot(kind = 'bar', grid= True, color='red')\n",
    "plt.title('Fatalities by month')\n",
    "plt.xlabel('Month')\n",
    "plt.ylabel('Fatality cases')\n",
    "plt.xticks(np.arange(4), ('January','February','March','April'))\n",
    "plt.legend()\n",
    "plt.tight_layout()\n",
    "plt.show()\n",
    "\n"
   ]
  },
  {
   "cell_type": "code",
   "execution_count": 42,
   "metadata": {},
   "outputs": [
    {
     "data": {
      "text/plain": [
       "Week\n",
       "13    470.0\n",
       "14    440.0\n",
       "12     85.0\n",
       "11     14.0\n",
       "10      7.0\n",
       "9       3.0\n",
       "4       0.0\n",
       "5       0.0\n",
       "6       0.0\n",
       "7       0.0\n",
       "Name: ConfirmedCases, dtype: float64"
      ]
     },
     "execution_count": 42,
     "metadata": {},
     "output_type": "execute_result"
    }
   ],
   "source": [
    "#Highest confirmed cases by week in Nigeria(10)\n",
    "Nigeria.groupby('Week')['ConfirmedCases'].sum().nlargest(10)"
   ]
  },
  {
   "cell_type": "code",
   "execution_count": 43,
   "metadata": {},
   "outputs": [
    {
     "data": {
      "text/plain": [
       "Week\n",
       "13    7.0\n",
       "14    6.0\n",
       "4     0.0\n",
       "5     0.0\n",
       "6     0.0\n",
       "7     0.0\n",
       "8     0.0\n",
       "9     0.0\n",
       "10    0.0\n",
       "11    0.0\n",
       "Name: Fatalities, dtype: float64"
      ]
     },
     "execution_count": 43,
     "metadata": {},
     "output_type": "execute_result"
    }
   ],
   "source": [
    "#Highest fatalities by week in Nigeria(10)\n",
    "Nigeria.groupby('Week')['Fatalities'].sum().nlargest(10)"
   ]
  },
  {
   "cell_type": "code",
   "execution_count": 44,
   "metadata": {},
   "outputs": [
    {
     "data": {
      "image/png": "[encoded data removed]",
      "text/plain": [
       "<Figure size 432x288 with 1 Axes>"
      ]
     },
     "metadata": {
      "needs_background": "light"
     },
     "output_type": "display_data"
    }
   ],
   "source": [
    "#Chart showing the number of confirmed cases per week for the top 10 weeks\n",
    "Nigeria.groupby('Week')['ConfirmedCases'].sum().nlargest(10).sort_index().plot(marker = 'd',\n",
    "                                                                                  color = 'blue',\n",
    "                                                                                  grid = True)\n",
    "plt.title('Confirmed cases by week in Nigeria')\n",
    "plt.xlabel('day of year')\n",
    "plt.ylabel('Confirmed cases')\n",
    "plt.legend()\n",
    "plt.show()"
   ]
  },
  {
   "cell_type": "code",
   "execution_count": 45,
   "metadata": {},
   "outputs": [
    {
     "data": {
      "image/png": "[encoded data removed]",
      "text/plain": [
       "<Figure size 432x288 with 1 Axes>"
      ]
     },
     "metadata": {
      "needs_background": "light"
     },
     "output_type": "display_data"
    }
   ],
   "source": [
    "#Chart showing the number of fatalities per week for the top 10 weeks\n",
    "Nigeria.groupby('Week')['Fatalities'].sum().nlargest(10).sort_index().plot(color ='r',marker ='d',\n",
    "                                                                          grid = True)\n",
    "plt.title('Fatalities by week in Nigeria')\n",
    "plt.xlabel('day of year')\n",
    "plt.ylabel('Fatalities')\n",
    "plt.legend()\n",
    "plt.tight_layout()\n",
    "plt.show()"
   ]
  },
  {
   "cell_type": "code",
   "execution_count": 46,
   "metadata": {},
   "outputs": [
    {
     "data": {
      "text/plain": [
       "Day_of_year\n",
       "92    174.0\n",
       "91    135.0\n",
       "90    131.0\n",
       "89    111.0\n",
       "88     89.0\n",
       "87     70.0\n",
       "86     65.0\n",
       "85     51.0\n",
       "84     44.0\n",
       "83     40.0\n",
       "Name: ConfirmedCases, dtype: float64"
      ]
     },
     "execution_count": 46,
     "metadata": {},
     "output_type": "execute_result"
    }
   ],
   "source": [
    "#Highest confirmed cases by day of year in Nigeria(10)\n",
    "Nigeria.groupby('Day_of_year')['ConfirmedCases'].sum().nlargest(10)"
   ]
  },
  {
   "cell_type": "code",
   "execution_count": 47,
   "metadata": {},
   "outputs": [
    {
     "data": {
      "text/plain": [
       "Day_of_year\n",
       "90    2.0\n",
       "91    2.0\n",
       "92    2.0\n",
       "83    1.0\n",
       "84    1.0\n",
       "85    1.0\n",
       "86    1.0\n",
       "87    1.0\n",
       "88    1.0\n",
       "89    1.0\n",
       "Name: Fatalities, dtype: float64"
      ]
     },
     "execution_count": 47,
     "metadata": {},
     "output_type": "execute_result"
    }
   ],
   "source": [
    "#Highest fatalities by day of year in Nigeria(10)\n",
    "Nigeria.groupby('Day_of_year')['Fatalities'].sum().nlargest(10)"
   ]
  },
  {
   "cell_type": "code",
   "execution_count": 48,
   "metadata": {},
   "outputs": [
    {
     "data": {
      "image/png": "[encoded data removed]",
      "text/plain": [
       "<Figure size 432x288 with 1 Axes>"
      ]
     },
     "metadata": {
      "needs_background": "light"
     },
     "output_type": "display_data"
    }
   ],
   "source": [
    "#Chart showing the highest confirmed cases by day of year in Nigeria(10)\n",
    "Nigeria.groupby('Day_of_year')['ConfirmedCases'].sum().nlargest(10).sort_index().plot(color ='b',marker = '>',\n",
    "                                                                        grid = True)\n",
    "plt.title('Confirmed cases by day of year')\n",
    "plt.xlabel('day of year')\n",
    "plt.ylabel('confirmed cases')\n",
    "plt.legend()\n",
    "plt.show()\n"
   ]
  },
  {
   "cell_type": "code",
   "execution_count": 49,
   "metadata": {},
   "outputs": [
    {
     "data": {
      "image/png": "[encoded data removed]",
      "text/plain": [
       "<Figure size 432x288 with 1 Axes>"
      ]
     },
     "metadata": {
      "needs_background": "light"
     },
     "output_type": "display_data"
    }
   ],
   "source": [
    "#Chart showing the highest fatalities by day of year in Nigeria(10)\n",
    "Nigeria.groupby('Day_of_year')['Fatalities'].sum().nlargest(10).sort_values().plot(marker = 'd',\n",
    "                                                                                  color = 'red',\n",
    "                                                                                  grid = True)\n",
    "plt.title('Fatalities by day of year')\n",
    "plt.xlabel('day of year')\n",
    "plt.ylabel('Fatalities')\n",
    "plt.legend()\n",
    "plt.tight_layout()\n",
    "plt.show()"
   ]
  },
  {
   "cell_type": "code",
   "execution_count": null,
   "metadata": {},
   "outputs": [],
   "source": []
  },
  {
   "cell_type": "code",
   "execution_count": null,
   "metadata": {},
   "outputs": [],
   "source": []
  },
  {
   "cell_type": "code",
   "execution_count": null,
   "metadata": {},
   "outputs": [],
   "source": []
  }
 ],
 "metadata": {
  "kernelspec": {
   "display_name": "Python 3",
   "language": "python",
   "name": "python3"
  },
  "language_info": {
   "codemirror_mode": {
    "name": "ipython",
    "version": 3
   },
   "file_extension": ".py",
   "mimetype": "text/x-python",
   "name": "python",
   "nbconvert_exporter": "python",
   "pygments_lexer": "ipython3",
   "version": "3.7.3"
  }
 },
 "nbformat": 4,
 "nbformat_minor": 2
}
